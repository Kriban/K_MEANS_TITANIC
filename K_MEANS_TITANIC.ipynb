{
  "nbformat": 4,
  "nbformat_minor": 0,
  "metadata": {
    "colab": {
      "name": "K_MEANS_TITANIC.ipynb",
      "version": "0.3.2",
      "provenance": [],
      "collapsed_sections": [],
      "include_colab_link": true
    },
    "kernelspec": {
      "name": "python3",
      "display_name": "Python 3"
    }
  },
  "cells": [
    {
      "cell_type": "markdown",
      "metadata": {
        "id": "view-in-github",
        "colab_type": "text"
      },
      "source": [
        "<a href=\"https://colab.research.google.com/github/Kriban/K_MEANS_TITANIC/blob/master/K_MEANS_TITANIC.ipynb\" target=\"_parent\"><img src=\"https://colab.research.google.com/assets/colab-badge.svg\" alt=\"Open In Colab\"/></a>"
      ]
    },
    {
      "metadata": {
        "id": "nQd86WrjnyzQ",
        "colab_type": "code",
        "colab": {}
      },
      "cell_type": "code",
      "source": [
        "import matplotlib.pyplot as plt\n",
        "from matplotlib import style\n",
        "style.use('ggplot')\n",
        "import numpy as np\n",
        "from sklearn.cluster import KMeans\n",
        "from sklearn import preprocessing\n",
        "import pandas as pd"
      ],
      "execution_count": 0,
      "outputs": []
    },
    {
      "metadata": {
        "id": "0BcdvzF25Zzm",
        "colab_type": "code",
        "outputId": "ffca56c5-45f8-41db-94f7-23472f780451",
        "colab": {
          "base_uri": "https://localhost:8080/",
          "height": 88
        }
      },
      "cell_type": "code",
      "source": [
        "# will have to upload the data to colab files every time \n",
        "df = pd.read_excel('./titanic.xls')\n",
        "\n",
        "# Dropping excess columns from this data set\n",
        "# Why?\n",
        "# Extra features(columns) are not required and too many features can\n",
        "# lead to incorrect results\n",
        "df.drop(['body','name'], 1, inplace=True)\n",
        "\n",
        "# converting to numeric\n",
        "# Why?\n",
        "# The operations are mathematical so they need numbers\n",
        "df.convert_objects(convert_numeric=True)\n",
        "\n",
        "# filling the N/A with 0\n",
        "# Why?\n",
        "# The operations are mathematical so they need numbers\n",
        "df.fillna(0, inplace=True)\n",
        "# print(df.head())"
      ],
      "execution_count": 0,
      "outputs": [
        {
          "output_type": "stream",
          "text": [
            "/usr/local/lib/python3.6/dist-packages/ipykernel_launcher.py:12: FutureWarning: convert_objects is deprecated.  To re-infer data dtypes for object columns, use DataFrame.infer_objects()\n",
            "For all other conversions use the data-type specific converters pd.to_datetime, pd.to_timedelta and pd.to_numeric.\n",
            "  if sys.path[0] == '':\n"
          ],
          "name": "stderr"
        }
      ]
    },
    {
      "metadata": {
        "id": "l62ChABp8jyj",
        "colab_type": "code",
        "colab": {}
      },
      "cell_type": "code",
      "source": [
        "def handle_non_numerical_data(df):\n",
        "  columns = df.columns.values\n",
        "  for column in columns:\n",
        "    text_digit_vals = {}\n",
        "    def convert_to_int(val):\n",
        "      return text_digit_vals[val]\n",
        "\n",
        "    # If it is not an int 64 or float64\n",
        "    if df[column].dtype != np.int64 and df[column].dtype != np.float64:\n",
        "      # take the values of the column and add them to a list\n",
        "      # Before -> 0: 'male'\n",
        "      # after -> ['male']\n",
        "      column_contents = df[column].values.tolist()\n",
        "      # Using a set to remove duplicates\n",
        "      unique_elements = set(column_contents)\n",
        "      x = 0\n",
        "      # Creats the dictionary of unique values exp: \"Female\" = 0, \"Male\" = 1 \n",
        "      for unique in unique_elements:\n",
        "        if unique not in text_digit_vals:\n",
        "          text_digit_vals[unique] = x\n",
        "          x+=1\n",
        "\n",
        "      # Maps data frame column to the value saved in the dict\n",
        "      df[column] = list(map(convert_to_int, df[column]))\n",
        "  return df\n",
        "\n",
        "df = handle_non_numerical_data(df)\n",
        "# print(df.head())\n",
        "    "
      ],
      "execution_count": 0,
      "outputs": []
    },
    {
      "metadata": {
        "id": "O8QAuc21JT5g",
        "colab_type": "code",
        "outputId": "a1f94a24-ce16-4006-a9c0-722ad66847a1",
        "colab": {
          "base_uri": "https://localhost:8080/",
          "height": 289
        }
      },
      "cell_type": "code",
      "source": [
        "# Training set without the survived column\n",
        "X = np.array(df.drop(['survived'], 1).astype(float))\n",
        "X = preprocessing.scale(X)\n",
        "print(X)\n",
        "# survived colum to check accuracy\n",
        "y = np.array(df['survived'])\n",
        "\n",
        "clf = KMeans(n_clusters=2)\n",
        "clf.fit(X)"
      ],
      "execution_count": 0,
      "outputs": [
        {
          "output_type": "stream",
          "text": [
            "[[-1.54609786  1.34499549  0.29131302 ...  0.60334283 -0.50108794\n",
            "   0.85201251]\n",
            " [-1.54609786 -0.74349692 -1.30576934 ...  0.60334283 -0.3886181\n",
            "   0.10198385]\n",
            " [-1.54609786  1.34499549 -1.24416265 ...  0.60334283 -0.61355778\n",
            "   0.10198385]\n",
            " ...\n",
            " [ 0.84191642 -0.74349692  0.14913935 ... -0.90963756 -0.61355778\n",
            "  -0.87882286]\n",
            " [ 0.84191642 -0.74349692  0.17757408 ... -0.90963756 -0.61355778\n",
            "  -0.87882286]\n",
            " [ 0.84191642 -0.74349692  0.29131302 ...  0.60334283 -0.61355778\n",
            "  -0.87882286]]\n"
          ],
          "name": "stdout"
        },
        {
          "output_type": "execute_result",
          "data": {
            "text/plain": [
              "KMeans(algorithm='auto', copy_x=True, init='k-means++', max_iter=300,\n",
              "    n_clusters=2, n_init=10, n_jobs=None, precompute_distances='auto',\n",
              "    random_state=None, tol=0.0001, verbose=0)"
            ]
          },
          "metadata": {
            "tags": []
          },
          "execution_count": 37
        }
      ]
    },
    {
      "metadata": {
        "id": "JQgftAnihCLP",
        "colab_type": "code",
        "outputId": "c49c48b5-f1ba-4be3-9794-b5ec6952394c",
        "colab": {
          "base_uri": "https://localhost:8080/",
          "height": 34
        }
      },
      "cell_type": "code",
      "source": [
        "correct = 0\n",
        "for i in range(len(X)):\n",
        "  predict_me = np.array(X[i].astype(float))\n",
        "  predict_me = predict_me.reshape(-1, len(predict_me))\n",
        "  prediction = clf.predict(predict_me)\n",
        "  if prediction[0] == y[i]:\n",
        "    correct +=1\n",
        "    \n",
        "print(correct/len(X))"
      ],
      "execution_count": 0,
      "outputs": [
        {
          "output_type": "stream",
          "text": [
            "0.7257448433919023\n"
          ],
          "name": "stdout"
        }
      ]
    },
    {
      "metadata": {
        "id": "yfvQAgozhWFt",
        "colab_type": "code",
        "colab": {}
      },
      "cell_type": "code",
      "source": [
        ""
      ],
      "execution_count": 0,
      "outputs": []
    }
  ]
}